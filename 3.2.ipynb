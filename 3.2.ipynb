{
 "cells": [
  {
   "cell_type": "markdown",
   "metadata": {},
   "source": [
    "Загрузите данные при помощи spark.read.csv из приложенного файла\n"
   ]
  },
  {
   "cell_type": "code",
   "execution_count": 1,
   "metadata": {},
   "outputs": [
    {
     "name": "stderr",
     "output_type": "stream",
     "text": [
      "\"pip\" ­Ґ пў«пҐвбп ў­гваҐ­­Ґ© Ё«Ё ў­Ґи­Ґ©\n",
      "Є®¬ ­¤®©, ЁбЇ®«­пҐ¬®© Їа®Ја ¬¬®© Ё«Ё Ї ЄҐв­л¬ д ©«®¬.\n"
     ]
    }
   ],
   "source": [
    "!pip install pyspark"
   ]
  },
  {
   "cell_type": "code",
   "execution_count": 2,
   "metadata": {},
   "outputs": [],
   "source": [
    "from pyspark.sql import SparkSession\n",
    "\n",
    "spark = SparkSession.builder.master(\"local[1]\").appName(\"Spark\").getOrCreate()\n"
   ]
  },
  {
   "cell_type": "code",
   "execution_count": 37,
   "metadata": {},
   "outputs": [
    {
     "name": "stdout",
     "output_type": "stream",
     "text": [
      "+------------+-----------+------------+-----------+-------+\n",
      "|sepal_length|sepal_width|petal_length|petal_width|variety|\n",
      "+------------+-----------+------------+-----------+-------+\n",
      "|         5.1|        3.5|         1.4|        0.2| Setosa|\n",
      "|         4.9|        3.0|         1.4|        0.2| Setosa|\n",
      "|         4.7|        3.2|         1.3|        0.2| Setosa|\n",
      "|         4.6|        3.1|         1.5|        0.2| Setosa|\n",
      "|         5.0|        3.6|         1.4|        0.2| Setosa|\n",
      "|         5.4|        3.9|         1.7|        0.4| Setosa|\n",
      "|         4.6|        3.4|         1.4|        0.3| Setosa|\n",
      "|         5.0|        3.4|         1.5|        0.2| Setosa|\n",
      "|         4.4|        2.9|         1.4|        0.2| Setosa|\n",
      "|         4.9|        3.1|         1.5|        0.1| Setosa|\n",
      "|         5.4|        3.7|         1.5|        0.2| Setosa|\n",
      "|         4.8|        3.4|         1.6|        0.2| Setosa|\n",
      "|         4.8|        3.0|         1.4|        0.1| Setosa|\n",
      "|         4.3|        3.0|         1.1|        0.1| Setosa|\n",
      "|         5.8|        4.0|         1.2|        0.2| Setosa|\n",
      "|         5.7|        4.4|         1.5|        0.4| Setosa|\n",
      "|         5.4|        3.9|         1.3|        0.4| Setosa|\n",
      "|         5.1|        3.5|         1.4|        0.3| Setosa|\n",
      "|         5.7|        3.8|         1.7|        0.3| Setosa|\n",
      "|         5.1|        3.8|         1.5|        0.3| Setosa|\n",
      "+------------+-----------+------------+-----------+-------+\n",
      "only showing top 20 rows\n",
      "\n"
     ]
    }
   ],
   "source": [
    "from pyspark.sql.types import *\n",
    "\n",
    "data_shema = [StructField(\"sepal_length\",DoubleType(),True), StructField(\"sepal_width\",DoubleType(),True), StructField(\"petal_length\",DoubleType(),True), StructField(\"petal_width\",DoubleType(),True), StructField(\"variety\",StringType(),True)]\n",
    "final_struc = StructType(fields = data_shema)\n",
    "df = spark.read.csv(\"iris.csv\",sep=',',header=True, schema=final_struc)\n",
    "df.show()"
   ]
  },
  {
   "cell_type": "code",
   "execution_count": 32,
   "metadata": {},
   "outputs": [
    {
     "data": {
      "text/plain": [
       "[Row(sepal_length='5.1', sepal_width='3.5', petal_length='1.4', petal_width='.2', variety='Setosa'),\n",
       " Row(sepal_length='4.9', sepal_width='3', petal_length='1.4', petal_width='.2', variety='Setosa'),\n",
       " Row(sepal_length='4.7', sepal_width='3.2', petal_length='1.3', petal_width='.2', variety='Setosa'),\n",
       " Row(sepal_length='4.6', sepal_width='3.1', petal_length='1.5', petal_width='.2', variety='Setosa'),\n",
       " Row(sepal_length='5', sepal_width='3.6', petal_length='1.4', petal_width='.2', variety='Setosa'),\n",
       " Row(sepal_length='5.4', sepal_width='3.9', petal_length='1.7', petal_width='.4', variety='Setosa'),\n",
       " Row(sepal_length='4.6', sepal_width='3.4', petal_length='1.4', petal_width='.3', variety='Setosa'),\n",
       " Row(sepal_length='5', sepal_width='3.4', petal_length='1.5', petal_width='.2', variety='Setosa'),\n",
       " Row(sepal_length='4.4', sepal_width='2.9', petal_length='1.4', petal_width='.2', variety='Setosa'),\n",
       " Row(sepal_length='4.9', sepal_width='3.1', petal_length='1.5', petal_width='.1', variety='Setosa')]"
      ]
     },
     "execution_count": 32,
     "metadata": {},
     "output_type": "execute_result"
    }
   ],
   "source": [
    "#Выведите 5 первых строк данных.\n",
    "df.take(10)"
   ]
  },
  {
   "cell_type": "code",
   "execution_count": 39,
   "metadata": {},
   "outputs": [
    {
     "name": "stdout",
     "output_type": "stream",
     "text": [
      "+----------+-----------------+\n",
      "|   variety|avg(sepal_length)|\n",
      "+----------+-----------------+\n",
      "| Virginica|6.587999999999998|\n",
      "|    Setosa|5.005999999999999|\n",
      "|Versicolor|            5.936|\n",
      "+----------+-----------------+\n",
      "\n",
      "+----------+-----------------+\n",
      "|   variety|min(sepal_length)|\n",
      "+----------+-----------------+\n",
      "| Virginica|              4.9|\n",
      "|    Setosa|              4.3|\n",
      "|Versicolor|              4.9|\n",
      "+----------+-----------------+\n",
      "\n",
      "+----------+-----------------+\n",
      "|   variety|max(sepal_length)|\n",
      "+----------+-----------------+\n",
      "| Virginica|              7.9|\n",
      "|    Setosa|              5.8|\n",
      "|Versicolor|              7.0|\n",
      "+----------+-----------------+\n",
      "\n",
      "+----------+------------------+\n",
      "|   variety|  avg(sepal_width)|\n",
      "+----------+------------------+\n",
      "| Virginica|2.9739999999999998|\n",
      "|    Setosa| 3.428000000000001|\n",
      "|Versicolor|2.7700000000000005|\n",
      "+----------+------------------+\n",
      "\n",
      "+----------+----------------+\n",
      "|   variety|min(sepal_width)|\n",
      "+----------+----------------+\n",
      "| Virginica|             2.2|\n",
      "|    Setosa|             2.3|\n",
      "|Versicolor|             2.0|\n",
      "+----------+----------------+\n",
      "\n",
      "+----------+----------------+\n",
      "|   variety|max(sepal_width)|\n",
      "+----------+----------------+\n",
      "| Virginica|             3.8|\n",
      "|    Setosa|             4.4|\n",
      "|Versicolor|             3.4|\n",
      "+----------+----------------+\n",
      "\n",
      "+----------+------------------+\n",
      "|   variety| avg(petal_length)|\n",
      "+----------+------------------+\n",
      "| Virginica|             5.552|\n",
      "|    Setosa|1.4620000000000002|\n",
      "|Versicolor|              4.26|\n",
      "+----------+------------------+\n",
      "\n",
      "+----------+-----------------+\n",
      "|   variety|min(petal_length)|\n",
      "+----------+-----------------+\n",
      "| Virginica|              4.5|\n",
      "|    Setosa|              1.0|\n",
      "|Versicolor|              3.0|\n",
      "+----------+-----------------+\n",
      "\n",
      "+----------+-----------------+\n",
      "|   variety|max(petal_length)|\n",
      "+----------+-----------------+\n",
      "| Virginica|              6.9|\n",
      "|    Setosa|              1.9|\n",
      "|Versicolor|              5.1|\n",
      "+----------+-----------------+\n",
      "\n",
      "+----------+------------------+\n",
      "|   variety|  avg(petal_width)|\n",
      "+----------+------------------+\n",
      "| Virginica|             2.026|\n",
      "|    Setosa|0.2459999999999999|\n",
      "|Versicolor|1.3259999999999998|\n",
      "+----------+------------------+\n",
      "\n",
      "+----------+----------------+\n",
      "|   variety|min(petal_width)|\n",
      "+----------+----------------+\n",
      "| Virginica|             1.4|\n",
      "|    Setosa|             0.1|\n",
      "|Versicolor|             1.0|\n",
      "+----------+----------------+\n",
      "\n",
      "+----------+----------------+\n",
      "|   variety|max(petal_width)|\n",
      "+----------+----------------+\n",
      "| Virginica|             2.5|\n",
      "|    Setosa|             0.6|\n",
      "|Versicolor|             1.8|\n",
      "+----------+----------------+\n",
      "\n"
     ]
    }
   ],
   "source": [
    "#Воспользуйтесь командами groupBy, max, min и avg, чтобы вывести максимальное\n",
    "#минимальное и среднее значние каждого из аттрбутов цветка\n",
    "#('sepal_length','sepal_width','petal_length','petal_width')\n",
    "df_grp = df.groupby(\"variety\")\n",
    "df_grp.avg(\"sepal_length\").show()\n",
    "df_grp.min(\"sepal_length\").show()\n",
    "df_grp.max(\"sepal_length\").show()\n",
    "df_grp.avg(\"sepal_width\").show()\n",
    "df_grp.min(\"sepal_width\").show()\n",
    "df_grp.max(\"sepal_width\").show()\n",
    "df_grp.avg(\"petal_length\").show()\n",
    "df_grp.min(\"petal_length\").show()\n",
    "df_grp.max(\"petal_length\").show()\n",
    "df_grp.avg(\"petal_width\").show()\n",
    "df_grp.min(\"petal_width\").show()\n",
    "df_grp.max(\"petal_width\").show()"
   ]
  },
  {
   "cell_type": "code",
   "execution_count": 49,
   "metadata": {},
   "outputs": [
    {
     "data": {
      "image/png": "[encoded data removed]",
      "text/plain": [
       "<Figure size 432x288 with 1 Axes>"
      ]
     },
     "metadata": {
      "needs_background": "light"
     },
     "output_type": "display_data"
    }
   ],
   "source": [
    "#Постройте точечную диаграмму для petal_length и petal_width, раскрашенный по типам\n",
    "#цветков.\n",
    "pd_df=df.toPandas()\n",
    "import seaborn as sns\n",
    "import matplotlib.pyplot as plt\n",
    "\n",
    "sns.scatterplot(data = pd_df, x = \"petal_length\", y = \"petal_width\", hue = \"variety\")\n",
    "plt.show()\n"
   ]
  },
  {
   "cell_type": "code",
   "execution_count": 61,
   "metadata": {},
   "outputs": [
    {
     "name": "stdout",
     "output_type": "stream",
     "text": [
      "+------------+-----------+------------+-----------+-------+\n",
      "|sepal_length|sepal_width|petal_length|petal_width|variety|\n",
      "+------------+-----------+------------+-----------+-------+\n",
      "|         5.1|        3.5|         1.4|        0.2| Setosa|\n",
      "|         4.9|        3.0|         1.4|        0.2| Setosa|\n",
      "|         4.7|        3.2|         1.3|        0.2| Setosa|\n",
      "|         4.6|        3.1|         1.5|        0.2| Setosa|\n",
      "|         5.0|        3.6|         1.4|        0.2| Setosa|\n",
      "|         5.4|        3.9|         1.7|        0.4| Setosa|\n",
      "|         4.6|        3.4|         1.4|        0.3| Setosa|\n",
      "|         5.0|        3.4|         1.5|        0.2| Setosa|\n",
      "|         4.4|        2.9|         1.4|        0.2| Setosa|\n",
      "|         4.9|        3.1|         1.5|        0.1| Setosa|\n",
      "|         5.4|        3.7|         1.5|        0.2| Setosa|\n",
      "|         4.8|        3.4|         1.6|        0.2| Setosa|\n",
      "|         4.8|        3.0|         1.4|        0.1| Setosa|\n",
      "|         4.3|        3.0|         1.1|        0.1| Setosa|\n",
      "|         5.8|        4.0|         1.2|        0.2| Setosa|\n",
      "|         5.7|        4.4|         1.5|        0.4| Setosa|\n",
      "|         5.4|        3.9|         1.3|        0.4| Setosa|\n",
      "|         5.1|        3.5|         1.4|        0.3| Setosa|\n",
      "|         5.7|        3.8|         1.7|        0.3| Setosa|\n",
      "|         5.1|        3.8|         1.5|        0.3| Setosa|\n",
      "+------------+-----------+------------+-----------+-------+\n",
      "only showing top 20 rows\n",
      "\n"
     ]
    }
   ],
   "source": [
    "#Посмотрите внимательно на получившийся график и сформируйте правило вида ЕСЛИ\n",
    "#ЗНАЧЕНИЕ ПАРАМЕТРА A < ЗНАЧЕНИЕ, ТО IRIS ОТНОСИТСЯ К КЛАССУ SETOSA -ИНАЧЕ К\n",
    "#КАКОМУ-ТО ДРУГОМУ (НАЗОВЕМ, ЕГО НАПРИМЕР UNKNOWN).\n",
    "\n",
    "df_filter=df.where((df[\"petal_length\"]<2) & (df[\"petal_width\"]<0.7))\n",
    "df_filter.show()"
   ]
  },
  {
   "cell_type": "code",
   "execution_count": 55,
   "metadata": {},
   "outputs": [
    {
     "name": "stdout",
     "output_type": "stream",
     "text": [
      "+------------+-----------+------------+-----------+-------+-----------+\n",
      "|sepal_length|sepal_width|petal_length|petal_width|variety|    NewClmn|\n",
      "+------------+-----------+------------+-----------+-------+-----------+\n",
      "|         5.1|        3.5|         1.4|        0.2| Setosa|Iris-setosa|\n",
      "|         4.9|        3.0|         1.4|        0.2| Setosa|Iris-setosa|\n",
      "|         4.7|        3.2|         1.3|        0.2| Setosa|Iris-setosa|\n",
      "|         4.6|        3.1|         1.5|        0.2| Setosa|Iris-setosa|\n",
      "|         5.0|        3.6|         1.4|        0.2| Setosa|Iris-setosa|\n",
      "|         5.4|        3.9|         1.7|        0.4| Setosa|Iris-setosa|\n",
      "|         4.6|        3.4|         1.4|        0.3| Setosa|Iris-setosa|\n",
      "|         5.0|        3.4|         1.5|        0.2| Setosa|Iris-setosa|\n",
      "|         4.4|        2.9|         1.4|        0.2| Setosa|Iris-setosa|\n",
      "|         4.9|        3.1|         1.5|        0.1| Setosa|Iris-setosa|\n",
      "|         5.4|        3.7|         1.5|        0.2| Setosa|Iris-setosa|\n",
      "|         4.8|        3.4|         1.6|        0.2| Setosa|Iris-setosa|\n",
      "|         4.8|        3.0|         1.4|        0.1| Setosa|Iris-setosa|\n",
      "|         4.3|        3.0|         1.1|        0.1| Setosa|Iris-setosa|\n",
      "|         5.8|        4.0|         1.2|        0.2| Setosa|Iris-setosa|\n",
      "|         5.7|        4.4|         1.5|        0.4| Setosa|Iris-setosa|\n",
      "|         5.4|        3.9|         1.3|        0.4| Setosa|Iris-setosa|\n",
      "|         5.1|        3.5|         1.4|        0.3| Setosa|Iris-setosa|\n",
      "|         5.7|        3.8|         1.7|        0.3| Setosa|Iris-setosa|\n",
      "|         5.1|        3.8|         1.5|        0.3| Setosa|Iris-setosa|\n",
      "+------------+-----------+------------+-----------+-------+-----------+\n",
      "only showing top 20 rows\n",
      "\n"
     ]
    }
   ],
   "source": [
    "#При помощи команд withColumn, when, otherwise создайте в датафрейме новую колонку с\n",
    "# таким предсказанием.\n",
    "from pyspark.sql.functions import when\n",
    "df2 = df.withColumn(\"NewClmn\", when((df['petal_length']<2) & (df[\"petal_width\"]<0.7),\"Iris-setosa\").otherwise(\"UNKNOWN\"))\n",
    "\n",
    "df2.show()"
   ]
  },
  {
   "cell_type": "code",
   "execution_count": 70,
   "metadata": {},
   "outputs": [
    {
     "data": {
      "text/plain": [
       "50"
      ]
     },
     "execution_count": 70,
     "metadata": {},
     "output_type": "execute_result"
    }
   ],
   "source": [
    "#Проверьте качество своего предсказания. Для этого:\n",
    "#(7.1.)Подсчитайте количество строк, где Вы предсказали класс Setosa и правильный класс\n",
    "#был так же Setosa.\n",
    "#df2.groupby(\"variety\",\"NewClmn\").count().show()\n",
    "df2.filter(df2[\"variety\"] == \"Setosa\").filter(df2[\"NewClmn\"] == \"Iris-setosa\").count()\n"
   ]
  },
  {
   "cell_type": "code",
   "execution_count": 69,
   "metadata": {},
   "outputs": [
    {
     "data": {
      "text/plain": [
       "0"
      ]
     },
     "execution_count": 69,
     "metadata": {},
     "output_type": "execute_result"
    }
   ],
   "source": [
    "#(7.2.)Подсчитайте количество строк, где Вы предсказали класс Setosa, а правильный класс\n",
    "#был какой-то другой (воспользуйтесь оператором \"не равно\" -!=)\n",
    "df2.filter(df2[\"variety\"] == \"Setosa\").filter(df2[\"NewClmn\"] != \"Iris-setosa\").count()"
   ]
  },
  {
   "cell_type": "code",
   "execution_count": null,
   "metadata": {},
   "outputs": [],
   "source": []
  }
 ],
 "metadata": {
  "kernelspec": {
   "display_name": "Python 3 (ipykernel)",
   "language": "python",
   "name": "python3"
  },
  "language_info": {
   "codemirror_mode": {
    "name": "ipython",
    "version": 3
   },
   "file_extension": ".py",
   "mimetype": "text/x-python",
   "name": "python",
   "nbconvert_exporter": "python",
   "pygments_lexer": "ipython3",
   "version": "3.10.2"
  }
 },
 "nbformat": 4,
 "nbformat_minor": 2
}
